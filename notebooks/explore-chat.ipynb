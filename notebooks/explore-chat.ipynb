{
 "cells": [
  {
   "cell_type": "code",
   "execution_count": null,
   "metadata": {
    "ExecuteTime": {
     "end_time": "2020-01-10T10:56:29.921454Z",
     "start_time": "2020-01-10T10:56:27.065051Z"
    }
   },
   "outputs": [],
   "source": [
    "import pandas as pd\n",
    "import math, os, sys, glob\n",
    "import numpy as np\n",
    "import warnings\n",
    "import matplotlib as mpl\n",
    "import matplotlib.pyplot as plt\n",
    "import seaborn as sns\n",
    "\n",
    "warnings.filterwarnings('ignore')\n",
    "mpl.rcParams['figure.dpi'] = 500\n",
    "pd.set_option('display.max_columns', 1000)\n",
    "%matplotlib inline\n",
    "%load_ext autoreload\n",
    "%autoreload 2"
   ]
  },
  {
   "cell_type": "code",
   "execution_count": null,
   "metadata": {
    "ExecuteTime": {
     "end_time": "2020-01-10T10:56:33.161858Z",
     "start_time": "2020-01-10T10:56:30.674459Z"
    }
   },
   "outputs": [],
   "source": [
    "sys.path.append(os.path.abspath(os.path.join('../src/')))\n",
    "\n",
    "from preprocess import Preprocess\n",
    "from user import User\n",
    "from action_logging import Logger\n",
    "from plot_user import PlotUser\n",
    "from plot import Plot\n",
    "from plot_progression import PlotProgression\n",
    "from generate_html import HTML"
   ]
  },
  {
   "cell_type": "code",
   "execution_count": null,
   "metadata": {
    "ExecuteTime": {
     "end_time": "2020-01-10T10:56:34.165967Z",
     "start_time": "2020-01-10T10:56:33.163764Z"
    }
   },
   "outputs": [],
   "source": [
    "logger = Logger(log_flag = True, log_file = \"run\", log_path = \"../logs/\")"
   ]
  },
  {
   "cell_type": "markdown",
   "metadata": {},
   "source": [
    "### Load and Clean data"
   ]
  },
  {
   "cell_type": "code",
   "execution_count": null,
   "metadata": {
    "ExecuteTime": {
     "end_time": "2020-01-10T10:56:35.536046Z",
     "start_time": "2020-01-10T10:56:34.168865Z"
    }
   },
   "outputs": [],
   "source": [
    "preprocess = Preprocess(config_path='../settings.conf', logger=logger)\n",
    "\n",
    "preprocess.load_data()\n",
    "# preprocess.parse_data()\n",
    "# preprocess.drop_message()\n",
    "preprocess.prepare_df()\n",
    "# preprocess.check_n_users()\n",
    "# preprocess.print_sample(10)\n",
    "\n",
    "preprocess.pd_data"
   ]
  },
  {
   "cell_type": "markdown",
   "metadata": {
    "collapsed": true
   },
   "source": [
    "### Analysis\n",
    "#### User based analysis"
   ]
  },
  {
   "cell_type": "code",
   "execution_count": null,
   "metadata": {
    "ExecuteTime": {
     "end_time": "2020-01-10T10:59:45.363161Z",
     "start_time": "2020-01-10T10:56:36.523135Z"
    },
    "scrolled": true
   },
   "outputs": [],
   "source": [
    "user_data_list = []\n",
    "for user_idx, user in enumerate(preprocess.users + ['Overall']):\n",
    "    logger.write_logger(f\"Starting for User: {user}\")\n",
    "    if user == 'Overall':\n",
    "        user_subset_data = preprocess.pd_data.copy()\n",
    "    else:\n",
    "        user_subset_data = preprocess.pd_data[preprocess.pd_data['User'] == user]\n",
    "\n",
    "    # Fetch user statistics --------------------------------------------------------------------------------------------\n",
    "    user_data = User(\n",
    "        user_name = user,\n",
    "        color_map = preprocess.color_map,\n",
    "        messages = user_subset_data['Message'],\n",
    "        timestamp = user_subset_data['Timestamp'],\n",
    "        users = user_subset_data['User'],\n",
    "        logger = logger)\n",
    "    user_data.get_clean_messages(). \\\n",
    "        get_link_count(). \\\n",
    "        get_media_count(). \\\n",
    "        get_emoji_count(). \\\n",
    "        get_total_stats(). \\\n",
    "        get_emoji_statistics(). \\\n",
    "        get_avg_stats(). \\\n",
    "        get_top_stats(data = preprocess.pd_data). \\\n",
    "        get_response_time(data = preprocess.pd_data)\n",
    "\n",
    "    # Plot user statistics ---------------------------------------------------------------------------------------------\n",
    "    plot_user_obj = PlotUser(user_object = user_data, user_idx = user_idx + 1)\n",
    "    plot_user_obj.plot_top_k_ngrams(n_grams = 1, k = 10)\n",
    "    plot_user_obj.plot_top_k_ngrams(n_grams = 2, k = 10)\n",
    "    plot_user_obj.plot_top_k_ngrams(n_grams = 3, k = 10)\n",
    "    user_data.pd_emoji_rank = plot_user_obj.plot_top_k_emojis(k = 5, normalize = True)\n",
    "    plot_user_obj.plot_word_cloud()\n",
    "    plot_user_obj.plot_word_cloud(n_grams = 2)\n",
    "    plot_user_obj.plot_word_cloud(n_grams = 3)\n",
    "\n",
    "    user_data_list.append(user_data)\n",
    "\n",
    "    logger.write_logger(f\"Ending for User: {user}\")"
   ]
  },
  {
   "cell_type": "markdown",
   "metadata": {},
   "source": [
    "### Plots - Overall"
   ]
  },
  {
   "cell_type": "code",
   "execution_count": null,
   "metadata": {
    "ExecuteTime": {
     "end_time": "2020-01-10T10:59:58.810402Z",
     "start_time": "2020-01-10T10:59:45.366119Z"
    }
   },
   "outputs": [],
   "source": [
    "plot_obj = Plot(data = preprocess.pd_data, color_map = preprocess.color_map)\n",
    "plot_obj.plot_date_n_msgs()\n",
    "plot_obj.plot_weekday_n_msgs()\n",
    "plot_obj.plot_hour_n_msgs()\n",
    "plot_obj.plot_domain_counts(user_object = user_data_list[-1])\n",
    "plot_obj.plot_date_n_emojis(user_object = user_data_list[-1])"
   ]
  },
  {
   "cell_type": "markdown",
   "metadata": {
    "ExecuteTime": {
     "end_time": "2020-01-09T13:35:11.542672Z",
     "start_time": "2020-01-09T13:35:10.441317Z"
    }
   },
   "source": [
    "### Plot - Progression"
   ]
  },
  {
   "cell_type": "code",
   "execution_count": null,
   "metadata": {
    "ExecuteTime": {
     "end_time": "2020-01-10T11:00:12.021878Z",
     "start_time": "2020-01-10T10:59:58.812368Z"
    }
   },
   "outputs": [],
   "source": [
    "plot_progression_obj = PlotProgression(data = preprocess.pd_data, color_map = preprocess.color_map)\n",
    "plot_progression_obj.plot_monthly_msg_progression()\n",
    "plot_progression_obj.plot_monthly_word_progression(user_object = user_data_list[-1])\n",
    "plot_progression_obj.plot_monthly_emoji_progression(user_object = user_data_list[-1])\n",
    "plot_progression_obj.plot_monthly_response_time_progression(user_object = user_data_list[-1])"
   ]
  },
  {
   "cell_type": "markdown",
   "metadata": {},
   "source": [
    "### Generate HTML"
   ]
  },
  {
   "cell_type": "code",
   "execution_count": null,
   "metadata": {
    "ExecuteTime": {
     "end_time": "2020-01-10T11:02:13.487540Z",
     "start_time": "2020-01-10T11:02:12.496466Z"
    }
   },
   "outputs": [],
   "source": [
    "html_obj = HTML(\n",
    "    user1=user_data_list[0],\n",
    "    user2=user_data_list[1],\n",
    "    overall=user_data_list[2],\n",
    "    html_path=\"../html_template/index.html\",\n",
    "    logger=logger)"
   ]
  },
  {
   "cell_type": "code",
   "execution_count": null,
   "metadata": {
    "ExecuteTime": {
     "end_time": "2020-01-10T11:04:08.188674Z",
     "start_time": "2020-01-10T11:04:07.125592Z"
    }
   },
   "outputs": [],
   "source": [
    "html_obj = html_obj.populate_members()"
   ]
  },
  {
   "cell_type": "code",
   "execution_count": null,
   "metadata": {
    "ExecuteTime": {
     "end_time": "2020-01-10T11:04:16.213340Z",
     "start_time": "2020-01-10T11:04:15.212407Z"
    }
   },
   "outputs": [],
   "source": [
    "html_obj = html_obj.populate_html_txt()"
   ]
  },
  {
   "cell_type": "code",
   "execution_count": null,
   "metadata": {
    "ExecuteTime": {
     "end_time": "2020-01-10T11:04:28.117535Z",
     "start_time": "2020-01-10T11:04:26.928439Z"
    }
   },
   "outputs": [],
   "source": [
    "html_obj = html_obj.populate_html_img()"
   ]
  },
  {
   "cell_type": "code",
   "execution_count": null,
   "metadata": {
    "ExecuteTime": {
     "end_time": "2020-01-10T11:07:35.254197Z",
     "start_time": "2020-01-10T11:07:34.234881Z"
    }
   },
   "outputs": [],
   "source": [
    "html_obj.save_html()"
   ]
  }
 ],
 "metadata": {
  "kernelspec": {
   "display_name": "Python 3",
   "language": "python",
   "name": "python3"
  },
  "language_info": {
   "codemirror_mode": {
    "name": "ipython",
    "version": 3
   },
   "file_extension": ".py",
   "mimetype": "text/x-python",
   "name": "python",
   "nbconvert_exporter": "python",
   "pygments_lexer": "ipython3",
   "version": "3.9.7"
  },
  "toc": {
   "base_numbering": 1,
   "nav_menu": {},
   "number_sections": true,
   "sideBar": true,
   "skip_h1_title": false,
   "title_cell": "Table of Contents",
   "title_sidebar": "Contents",
   "toc_cell": false,
   "toc_position": {},
   "toc_section_display": true,
   "toc_window_display": false
  },
  "varInspector": {
   "cols": {
    "lenName": 16,
    "lenType": 16,
    "lenVar": 40
   },
   "kernels_config": {
    "python": {
     "delete_cmd_postfix": "",
     "delete_cmd_prefix": "del ",
     "library": "var_list.py",
     "varRefreshCmd": "print(var_dic_list())"
    },
    "r": {
     "delete_cmd_postfix": ") ",
     "delete_cmd_prefix": "rm(",
     "library": "var_list.r",
     "varRefreshCmd": "cat(var_dic_list()) "
    }
   },
   "types_to_exclude": [
    "module",
    "function",
    "builtin_function_or_method",
    "instance",
    "_Feature"
   ],
   "window_display": false
  }
 },
 "nbformat": 4,
 "nbformat_minor": 2
}
